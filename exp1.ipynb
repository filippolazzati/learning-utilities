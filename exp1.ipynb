{
 "cells": [
  {
   "cell_type": "markdown",
   "metadata": {},
   "source": [
    "In this notebook, we conduct **Experiment 1**, that consists in analyzing whether\n",
    "the policies demonstrated by the participants to the study are *non-Markovian*."
   ]
  },
  {
   "cell_type": "markdown",
   "metadata": {},
   "source": [
    "Let us begin by importing the necessary libraries and by constructing the environment."
   ]
  },
  {
   "cell_type": "code",
   "execution_count": 1,
   "metadata": {},
   "outputs": [],
   "source": [
    "from environment import *\n",
    "from algorithm import *\n",
    "from data.data import *\n",
    "from utils import *\n",
    "\n",
    "# get environment, utilities, and policies\n",
    "M, utilities, policies = construct_env_utilities_and_policies()"
   ]
  },
  {
   "cell_type": "markdown",
   "metadata": {},
   "source": [
    "Now, we can simply count how many participants exhibit non-Markovian behavior at\n",
    "least once. To do this, we look for stages $h$ and states $s$ in which the\n",
    "demonstrated expert's action differs depending on the amount of reward collected\n",
    "so far."
   ]
  },
  {
   "cell_type": "code",
   "execution_count": null,
   "metadata": {},
   "outputs": [
    {
     "name": "stdout",
     "output_type": "stream",
     "text": [
      "Policy 1 is non-Markovian\n",
      "Policy 2 is non-Markovian\n",
      "Policy 3 is non-Markovian\n",
      "Policy 4 is Markovian\n",
      "Policy 5 is non-Markovian\n",
      "Policy 6 is Markovian\n",
      "Policy 7 is Markovian\n",
      "Policy 8 is non-Markovian\n",
      "Policy 9 is Markovian\n",
      "Policy 10 is non-Markovian\n",
      "Policy 11 is Markovian\n",
      "Policy 12 is non-Markovian\n",
      "Policy 13 is non-Markovian\n",
      "Policy 14 is non-Markovian\n",
      "Policy 15 is non-Markovian\n",
      "\n",
      "-----> 10 non-Markovian policies out of 15\n"
     ]
    }
   ],
   "source": [
    "# find and count the non-Markovian policies\n",
    "n_non_mark_policies = 0\n",
    "\n",
    "# loop over the policies\n",
    "for i, policy in enumerate(policies):\n",
    "    non_markovian = False\n",
    "    # loop over the stages and states\n",
    "    for h in range(4):\n",
    "        for s in range(4):\n",
    "            # take unique elements different from placeholder -1\n",
    "            unique_elements = {x for x in policy[h][s] if x != -1}\n",
    "            if len(unique_elements) > 1:\n",
    "                non_markovian = True\n",
    "    if non_markovian:\n",
    "        n_non_mark_policies += 1\n",
    "        print('Policy '+str(i+1)+' is non-Markovian')\n",
    "    else:\n",
    "        print('Policy '+str(i+1)+' is Markovian')\n",
    "print('\\n-----> '+str(n_non_mark_policies)+' non-Markovian policies out of 15')"
   ]
  }
 ],
 "metadata": {
  "kernelspec": {
   "display_name": ".venv",
   "language": "python",
   "name": "python3"
  },
  "language_info": {
   "codemirror_mode": {
    "name": "ipython",
    "version": 3
   },
   "file_extension": ".py",
   "mimetype": "text/x-python",
   "name": "python",
   "nbconvert_exporter": "python",
   "pygments_lexer": "ipython3",
   "version": "3.11.9"
  }
 },
 "nbformat": 4,
 "nbformat_minor": 2
}
