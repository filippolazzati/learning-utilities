{
 "cells": [
  {
   "cell_type": "code",
   "execution_count": null,
   "metadata": {},
   "outputs": [],
   "source": [
    "import numpy as np\n",
    "from utils import *"
   ]
  },
  {
   "cell_type": "code",
   "execution_count": null,
   "metadata": {},
   "outputs": [],
   "source": [
    "# S 20 A 5\n",
    "subopts = np.load('results/exp2sim/S_20_A_5/subopts_L_0.npy', allow_pickle=True)\n",
    "plot_suboptimalities(\n",
    "    subopts=[subopts],\n",
    "    subopts_std=[],\n",
    "    labels=[],\n",
    "    savefig=True,\n",
    "    namefig='results/plots/plot exp2sim/S_20_A_5'\n",
    ")"
   ]
  },
  {
   "cell_type": "code",
   "execution_count": null,
   "metadata": {},
   "outputs": [],
   "source": [
    "# S 100 A 10\n",
    "subopts = np.load('results/exp2sim/S_100_A_10/subopts_L_0.npy', allow_pickle=True)\n",
    "plot_suboptimalities(\n",
    "    subopts=[subopts],\n",
    "    subopts_std=[],\n",
    "    labels=[],\n",
    "    savefig=True,\n",
    "    namefig='results/plots/plot exp2sim/S_100_A_10'\n",
    ")"
   ]
  },
  {
   "cell_type": "code",
   "execution_count": null,
   "metadata": {},
   "outputs": [],
   "source": [
    "# S 1000 A 20\n",
    "subopts = np.load('results/exp2sim/S_1000_A_20/subopts_L_0.npy', allow_pickle=True)\n",
    "plot_suboptimalities(\n",
    "    subopts=[subopts],\n",
    "    subopts_std=[],\n",
    "    labels=[],\n",
    "    savefig=True,\n",
    "    namefig='results/plots/plot exp2sim/S_1000_A_20'\n",
    ")"
   ]
  },
  {
   "cell_type": "code",
   "execution_count": null,
   "metadata": {},
   "outputs": [],
   "source": [
    "# N 5\n",
    "subopts = np.load('results/exp2sim/N5/subopts_L_0.npy', allow_pickle=True)\n",
    "plot_suboptimalities(\n",
    "    subopts=[subopts],\n",
    "    subopts_std=[],\n",
    "    labels=[],\n",
    "    savefig=True,\n",
    "    namefig='results/plots/plot exp2sim/N_5'\n",
    ")"
   ]
  },
  {
   "cell_type": "code",
   "execution_count": null,
   "metadata": {},
   "outputs": [],
   "source": [
    "# N 20\n",
    "subopts = np.load('results/exp2sim/N20/subopts_L_0.npy', allow_pickle=True)\n",
    "plot_suboptimalities(\n",
    "    subopts=[subopts],\n",
    "    subopts_std=[],\n",
    "    labels=[],\n",
    "    savefig=True,\n",
    "    namefig='results/plots/plot exp2sim/N_20'\n",
    ")"
   ]
  }
 ],
 "metadata": {
  "kernelspec": {
   "display_name": ".venv",
   "language": "python",
   "name": "python3"
  },
  "language_info": {
   "name": "python",
   "version": "3.11.9"
  }
 },
 "nbformat": 4,
 "nbformat_minor": 2
}
