{
 "cells": [
  {
   "cell_type": "markdown",
   "metadata": {},
   "source": [
    "In this notebook, we analyse the results obtained by carrying out \"Experiment 1\"\n",
    "as described in the paper. To repeat the experiment, execute script **exp1.py**.\n",
    "It will save two files *abs_comp.npy* and *rel_comp.npy* in folder\n",
    "*results/exp1*. \n",
    "\n",
    "Let us begin by importing the necessary libraries and by constructing the environment."
   ]
  },
  {
   "cell_type": "code",
   "execution_count": 1,
   "metadata": {},
   "outputs": [],
   "source": [
    "from environment import *\n",
    "from algorithm import *\n",
    "from data.data import *\n",
    "from utils import *\n",
    "\n",
    "# get environment, utilities, and policies\n",
    "M, utilities, policies = construct_env_utilities_and_policies()"
   ]
  },
  {
   "cell_type": "markdown",
   "metadata": {},
   "source": [
    "To load the data for analysis, run the following cell."
   ]
  },
  {
   "cell_type": "code",
   "execution_count": 2,
   "metadata": {},
   "outputs": [],
   "source": [
    "abs_comp = np.load('results/exp1/abs_comp.npy',allow_pickle=True)\n",
    "rel_comp = np.load('results/exp1/rel_comp.npy',allow_pickle=True)"
   ]
  },
  {
   "cell_type": "code",
   "execution_count": 3,
   "metadata": {},
   "outputs": [
    {
     "data": {
      "text/plain": [
       "array([{'SG_mean': 0.31094839999999996, 'SG_std': 0.0036456640327929466, 'sqrt_mean': 0.26270227667255963, 'sqrt_std': 0.004381994657003574, 'square_mean': 0.2028995976, 'square_std': 0.002039564580746936, 'linear_mean': 0.31094839999999996, 'linear_std': 0.0036456640327929496},\n",
       "       {'SG_mean': 0.8628824333333334, 'SG_std': 0.004627541158469904, 'sqrt_mean': 0.4714240476217756, 'sqrt_std': 0.004381994657003574, 'square_mean': 0.2515569976, 'square_std': 0.0020395645807469312, 'linear_mean': 0.4578863999999999, 'linear_std': 0.00364566403279295},\n",
       "       {'SG_mean': 0.19966125000000012, 'SG_std': 0.008775841412650937, 'sqrt_mean': 0.12868000496195023, 'sqrt_std': 0.004381994657003574, 'square_mean': 0.09281229360000001, 'square_std': 0.002039564580746936, 'linear_mean': 0.13981040000000008, 'linear_std': 0.0036456640327929496},\n",
       "       {'SG_mean': 0.0, 'SG_std': 0.0, 'sqrt_mean': 0.017922688525637075, 'sqrt_std': 0.004381994657003574, 'square_mean': 0.0018520735999999927, 'square_std': 0.002039564580746936, 'linear_mean': 0.006280399999999941, 'linear_std': 0.0036456640327929496},\n",
       "       {'SG_mean': 0.10219406666666701, 'SG_std': 0.00797659751230643, 'sqrt_mean': 0.048445670249946636, 'sqrt_std': 0.004381994657003574, 'square_mean': 0.0539743216, 'square_std': 0.002039564580746936, 'linear_mean': 0.07458239999999991, 'linear_std': 0.0036456640327929496},\n",
       "       {'SG_mean': 0.7493030000000003, 'SG_std': 0.008286281795835574, 'sqrt_mean': 0.26944598142209164, 'sqrt_std': 0.004381994657003574, 'square_mean': 0.11894447360000004, 'square_std': 0.002039564580746936, 'linear_mean': 0.2598884, 'linear_std': 0.0036456640327929496},\n",
       "       {'SG_mean': 0.23001133333333326, 'SG_std': 0.0046117241172183255, 'sqrt_mean': 0.19350583745168173, 'sqrt_std': 0.004381994657003574, 'square_mean': 0.12898903760000002, 'square_std': 0.002039564580746936, 'linear_mean': 0.1981224, 'linear_std': 0.0036456640327929496},\n",
       "       {'SG_mean': 0.6077254166666667, 'SG_std': 0.006306468121434268, 'sqrt_mean': 0.511960021218912, 'sqrt_std': 0.004381994657003574, 'square_mean': 0.2655594416, 'square_std': 0.002039564580746936, 'linear_mean': 0.49459040000000004, 'linear_std': 0.0036456640327929323},\n",
       "       {'SG_mean': 0.3477048333333335, 'SG_std': 0.011329855132936613, 'sqrt_mean': 0.017922688525637075, 'sqrt_std': 0.004381994657003574, 'square_mean': 0.0018520735999999927, 'square_std': 0.002039564580746936, 'linear_mean': 0.006280399999999941, 'linear_std': 0.0036456640327929496},\n",
       "       {'SG_mean': 0.08325319866666661, 'SG_std': 2.0909965725372947e-07, 'sqrt_mean': 0.41938603520460516, 'sqrt_std': 0.004381994657003574, 'square_mean': 0.25750768560000004, 'square_std': 0.002039564580746936, 'linear_mean': 0.4420664, 'linear_std': 0.0036456640327929496},\n",
       "       {'SG_mean': 0.0187445333333335, 'SG_std': 0.008107384435329445, 'sqrt_mean': 0.017922688525637075, 'sqrt_std': 0.004381994657003574, 'square_mean': 0.0018520735999999927, 'square_std': 0.002039564580746936, 'linear_mean': 0.006280399999999941, 'linear_std': 0.0036456640327929496},\n",
       "       {'SG_mean': 0.13205133333333344, 'SG_std': 0.0066094104124346156, 'sqrt_mean': 0.10193710294662686, 'sqrt_std': 0.004381994657003574, 'square_mean': 0.1004687216, 'square_std': 0.002039564580746936, 'linear_mean': 0.13097440000000002, 'linear_std': 0.0036456640327929496},\n",
       "       {'SG_mean': 0.7796078999999998, 'SG_std': 0.013553549123384587, 'sqrt_mean': 0.13290918035279212, 'sqrt_std': 0.004381994657003574, 'square_mean': 0.0824069176, 'square_std': 0.002039564580746936, 'linear_mean': 0.12866239999999993, 'linear_std': 0.0036456640327929496},\n",
       "       {'SG_mean': 0.4025701666666667, 'SG_std': 0.006482211672466956, 'sqrt_mean': 0.19350583745168173, 'sqrt_std': 0.004381994657003574, 'square_mean': 0.12898903760000002, 'square_std': 0.002039564580746936, 'linear_mean': 0.1981224, 'linear_std': 0.0036456640327929496},\n",
       "       {'SG_mean': 0.5687784333333334, 'SG_std': 0.003964011870147063, 'sqrt_mean': 0.4769931356530871, 'sqrt_std': 0.004381994657003574, 'square_mean': 0.2649647376, 'square_std': 0.002039564580746936, 'linear_mean': 0.4787504, 'linear_std': 0.0036456640327929496}],\n",
       "      dtype=object)"
      ]
     },
     "execution_count": 3,
     "metadata": {},
     "output_type": "execute_result"
    }
   ],
   "source": [
    "abs_comp"
   ]
  },
  {
   "cell_type": "code",
   "execution_count": 4,
   "metadata": {},
   "outputs": [
    {
     "data": {
      "text/plain": [
       "array([{'SG_mean': 0.39050699686757434, 'SG_std': 0.002790094338575109, 'sqrt_mean': 0.15591524308221918, 'sqrt_std': 0.0022006904802634917, 'square_mean': 0.6972969868053812, 'square_std': 0.0021043380034220186, 'linear_mean': 0.39050699686757434, 'linear_std': 0.0027900943385751123},\n",
       "       {'SG_mean': 0.7573535724051885, 'SG_std': 0.0009867268821515517, 'sqrt_mean': 0.27979814728679164, 'sqrt_std': 0.0018777040435152279, 'square_mean': 0.864527626464613, 'square_std': 0.000941780066989312, 'linear_mean': 0.5750501457510808, 'linear_std': 0.0019453056498182704},\n",
       "       {'SG_mean': 0.10988712122506308, 'SG_std': 0.00431110871102056, 'sqrt_mean': 0.0763688298254809, 'sqrt_std': 0.0024080832011466892, 'square_mean': 0.31893788281954716, 'square_std': 0.004734623817412892, 'linear_mean': 0.17557045619310277, 'linear_std': 0.003774015765411343},\n",
       "       {'SG_mean': 0.0, 'SG_std': 0.0, 'sqrt_mean': 0.010630895734390144, 'sqrt_std': 0.0025794745745375803, 'square_mean': 0.006316662323909081, 'square_std': 0.006907911450140167, 'linear_mean': 0.007866753472127664, 'linear_std': 0.0045417180181281155},\n",
       "       {'SG_mean': 0.05036150286046287, 'SG_std': 0.0037437795647142116, 'sqrt_mean': 0.028747240779730805, 'sqrt_std': 0.002532241796369625, 'square_mean': 0.18545563961240213, 'square_std': 0.0056625688490740695, 'linear_mean': 0.09364896198892557, 'linear_std': 0.004149030238115678},\n",
       "       {'SG_mean': 0.27805522474567124, 'SG_std': 0.002221757089559775, 'sqrt_mean': 0.15991784293402606, 'sqrt_std': 0.0021902549365364126, 'square_mean': 0.4087515838617358, 'square_std': 0.0041102547953260635, 'linear_mean': 0.3263794520391988, 'linear_std': 0.003083652917349293},\n",
       "       {'SG_mean': 0.20274513487986617, 'SG_std': 0.0032427542261401314, 'sqrt_mean': 0.11484499050476644, 'sqrt_std': 0.002307768487689259, 'square_mean': 0.4432737503321615, 'square_std': 0.0038702627777458653, 'linear_mean': 0.24880597115652278, 'linear_std': 0.003438763359506897},\n",
       "       {'SG_mean': 0.34002676101649904, 'SG_std': 0.0023375340537538903, 'sqrt_mean': 0.303857516422726, 'sqrt_std': 0.0018149766643217914, 'square_mean': 0.9126526324639588, 'square_std': 0.0006072235061855561, 'linear_mean': 0.6211476272508986, 'linear_std': 0.001734283830873319},\n",
       "       {'SG_mean': 0.10006118098108722, 'SG_std': 0.002936604997201012, 'sqrt_mean': 0.010630895734390144, 'sqrt_std': 0.0025794745745375803, 'square_mean': 0.006316662323909081, 'square_std': 0.006907911450140167, 'linear_mean': 0.007866753472127664, 'linear_std': 0.0045417180181281155},\n",
       "       {'SG_mean': 0.016652263499986088, 'SG_std': 4.112754615260132e-08, 'sqrt_mean': 0.24891195808882244, 'sqrt_std': 0.0019582302489496092, 'square_mean': 0.8849795486933495, 'square_std': 0.0007996019078267855, 'linear_mean': 0.5551814078116977, 'linear_std': 0.0020362593653726778},\n",
       "       {'SG_mean': 0.013573419486395033, 'SG_std': 0.005828049398254152, 'sqrt_mean': 0.010630895734390144, 'sqrt_std': 0.0025794745745375803, 'square_mean': 0.006316662323909081, 'square_std': 0.006907911450140167, 'linear_mean': 0.007866753472127664, 'linear_std': 0.0045417180181281155},\n",
       "       {'SG_mean': 0.07550521701624655, 'SG_std': 0.00350830363547992, 'sqrt_mean': 0.06049608040672162, 'sqrt_std': 0.0024494664961951917, 'square_mean': 0.3452522636114689, 'square_std': 0.004551690879439927, 'linear_mean': 0.1644731004135585, 'linear_std': 0.003824816462670426},\n",
       "       {'SG_mean': 0.21446787386702285, 'SG_std': 0.002922632887827006, 'sqrt_mean': 0.07887897779627154, 'sqrt_std': 0.002401538765060032, 'square_mean': 0.28317564142615537, 'square_std': 0.004983236617323424, 'linear_mean': 0.16156940116476864, 'linear_std': 0.003838108813515037},\n",
       "       {'SG_mean': 0.17345196517725198, 'SG_std': 0.0023158238995076605, 'sqrt_mean': 0.11484499050476644, 'sqrt_std': 0.002307768487689259, 'square_mean': 0.4432737503321615, 'square_std': 0.0038702627777458653, 'linear_mean': 0.24880597115652278, 'linear_std': 0.003438763359506897},\n",
       "       {'SG_mean': 0.5095145080487987, 'SG_std': 0.0017438170112577854, 'sqrt_mean': 0.2831035753499602, 'sqrt_std': 0.0018690861600477353, 'square_mean': 0.9106086940223672, 'square_std': 0.0006214326060352824, 'linear_mean': 0.601253770805903, 'linear_std': 0.001825352532161732}],\n",
       "      dtype=object)"
      ]
     },
     "execution_count": 4,
     "metadata": {},
     "output_type": "execute_result"
    }
   ],
   "source": [
    "rel_comp"
   ]
  },
  {
   "cell_type": "markdown",
   "metadata": {},
   "source": [
    "For every kind of utility considered, compute the average (non)compatibility\n",
    "over all the participants to the survey."
   ]
  },
  {
   "cell_type": "code",
   "execution_count": 5,
   "metadata": {},
   "outputs": [
    {
     "name": "stdout",
     "output_type": "stream",
     "text": [
      "Utility SG - abs: 0.36±0.28, rel: 0.215±0.205\n",
      "Utility sqrt - abs: 0.218±0.172, rel: 0.129±0.102\n",
      "Utility square - abs: 0.13±0.094, rel: 0.448±0.323\n",
      "Utility linear - abs: 0.222±0.171, rel: 0.279±0.215\n"
     ]
    }
   ],
   "source": [
    "# loop over the utilities\n",
    "for U in ['SG', 'sqrt', 'square', 'linear']:\n",
    "    comps_abs = []\n",
    "    comps_rel = []\n",
    "\n",
    "    # loop over the 15 participants\n",
    "    for participant in range(15):\n",
    "        comps_abs.append(abs_comp[participant][U+'_mean'])\n",
    "        comps_rel.append(rel_comp[participant][U+'_mean'])\n",
    "\n",
    "    # compute average and standard deviation of the means\n",
    "    mean_abs = '{:.3}'.format(np.mean(comps_abs))+'\\u00B1'+'{:.3}'.format(np.std(comps_abs))\n",
    "    mean_rel = '{:.3}'.format(np.mean(comps_rel))+'\\u00B1'+'{:.3}'.format(np.std(comps_rel))\n",
    "    print('Utility '+U+' - abs: '+mean_abs+', rel: '+mean_rel)"
   ]
  },
  {
   "cell_type": "markdown",
   "metadata": {},
   "source": [
    "How many times the *linear* utility model is the best, i.e., the considered participant \n",
    "behaves as a risk-neutral agent? How many times the *SG* utility model is the\n",
    "best, i.e., the considered participant behaves as if the horizon of the problem\n",
    "was 1? We answer these questions by counting, for each utility, the number of\n",
    "times it has smallest *relative* (non)compatibility."
   ]
  },
  {
   "cell_type": "code",
   "execution_count": 6,
   "metadata": {},
   "outputs": [
    {
     "data": {
      "text/plain": [
       "{'SG': 2, 'sqrt': 11, 'square': 2, 'linear': 0}"
      ]
     },
     "execution_count": 6,
     "metadata": {},
     "output_type": "execute_result"
    }
   ],
   "source": [
    "# initialize a counter variable\n",
    "counter={'SG':0,'sqrt':0,'square':0,'linear':0}\n",
    "\n",
    "# loop over the 15 participants\n",
    "for participant in range(15):\n",
    "    min = np.inf\n",
    "    argmin = ''\n",
    "\n",
    "    # loop over the utilities\n",
    "    for U in ['SG', 'sqrt', 'square', 'linear']:\n",
    "        if rel_comp[participant][U+'_mean'] < min:\n",
    "            min = rel_comp[participant][U+'_mean']\n",
    "            argmin = U\n",
    "    \n",
    "    # update the counter\n",
    "    counter[argmin] += 1\n",
    "    \n",
    "counter"
   ]
  }
 ],
 "metadata": {
  "kernelspec": {
   "display_name": ".venv",
   "language": "python",
   "name": "python3"
  },
  "language_info": {
   "codemirror_mode": {
    "name": "ipython",
    "version": 3
   },
   "file_extension": ".py",
   "mimetype": "text/x-python",
   "name": "python",
   "nbconvert_exporter": "python",
   "pygments_lexer": "ipython3",
   "version": "3.11.9"
  }
 },
 "nbformat": 4,
 "nbformat_minor": 2
}
